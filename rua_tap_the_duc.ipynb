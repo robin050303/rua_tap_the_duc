{
 "cells": [
  {
   "cell_type": "code",
   "execution_count": 1,
   "id": "54a73e69",
   "metadata": {
    "scrolled": true
   },
   "outputs": [],
   "source": [
    "import turtle\n",
    "import random as r\n",
    "pen = turtle.Turtle()\n",
    "turtle.shape(\"turtle\")\n",
    "turtle.hideturtle()\n",
    "turtle.color(\"red\")\n",
    "turtle.pensize(5)\n",
    "turtle.speed(1)\n",
    "turtle.penup()\n",
    "turtle.goto(-400, 0)\n",
    "turtle.showturtle()\n",
    "a = 0\n",
    "while a < 10:\n",
    "    down = r.randint(20, 50)\n",
    "    up = r.randint(20, 50)\n",
    "    turtle.pendown()\n",
    "    turtle.forward(down)\n",
    "    turtle.penup()\n",
    "    turtle.forward(up)\n",
    "    count += 1\n",
    "turtle.done()"
   ]
  }
 ],
 "metadata": {
  "kernelspec": {
   "display_name": "Python 3 (ipykernel)",
   "language": "python",
   "name": "python3"
  },
  "language_info": {
   "codemirror_mode": {
    "name": "ipython",
    "version": 3
   },
   "file_extension": ".py",
   "mimetype": "text/x-python",
   "name": "python",
   "nbconvert_exporter": "python",
   "pygments_lexer": "ipython3",
   "version": "3.9.5"
  }
 },
 "nbformat": 4,
 "nbformat_minor": 5
}
